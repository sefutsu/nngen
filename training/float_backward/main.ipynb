{
 "cells": [
  {
   "cell_type": "code",
   "execution_count": null,
   "metadata": {},
   "outputs": [],
   "source": [
    "from time import time\n",
    "import numpy as np\n",
    "from sklearn.utils import shuffle\n",
    "\n",
    "import nngen as ng\n",
    "print(ng.__version__)\n",
    "\n",
    "from trainer import Trainer\n",
    "\n",
    "trainer = Trainer()"
   ]
  },
  {
   "cell_type": "code",
   "execution_count": null,
   "metadata": {},
   "outputs": [],
   "source": [
    "# Training Data\n",
    "mnist = np.load(\"mnist.npz\")\n",
    "\n",
    "# Use 1000 data for train and validation\n",
    "x0_valid_mnist = mnist[\"x0_valid\"]\n",
    "x9_valid_mnist = mnist[\"x9_valid\"]\n",
    "t0_valid_mnist = mnist[\"t0_valid\"]\n",
    "t9_valid_mnist = mnist[\"t9_valid\"]\n",
    "\n",
    "x_train_mnist = mnist[\"x_train\"]\n",
    "t_train_mnist = mnist[\"t_train\"]"
   ]
  },
  {
   "cell_type": "code",
   "execution_count": null,
   "metadata": {},
   "outputs": [],
   "source": [
    "## How to generate data\n",
    "## No need to exec this cell\n",
    "from sklearn.model_selection import train_test_split\n",
    "from sklearn.datasets import fetch_openml\n",
    "\n",
    "mnist = fetch_openml('mnist_784', parser=\"auto\")\n",
    "\n",
    "x_mnist = mnist.data.to_numpy().astype(float) / 255.\n",
    "t_mnist = mnist.target.to_numpy().astype(int)\n",
    "\n",
    "x0_mnist = x_mnist[t_mnist == 0]\n",
    "x9_mnist = x_mnist[t_mnist != 0]\n",
    "t0_mnist = t_mnist[t_mnist == 0]\n",
    "t9_mnist = t_mnist[t_mnist != 0]\n",
    "\n",
    "t0_mnist = np.eye(10)[t0_mnist]\n",
    "t9_mnist = np.eye(10)[t9_mnist]\n",
    "\n",
    "x0_train_mnist, x0_valid_mnist, t0_train_mnist, t0_valid_mnist = train_test_split(x0_mnist, t0_mnist, test_size=0.3)\n",
    "x9_train_mnist, x9_valid_mnist, t9_train_mnist, t9_valid_mnist = train_test_split(x9_mnist, t9_mnist, test_size=0.3)\n",
    "\n",
    "# Use 1000 data for train and validation\n",
    "x0_valid_mnist = x0_valid_mnist[:100]\n",
    "x9_valid_mnist = x9_valid_mnist[:900]\n",
    "t0_valid_mnist = t0_valid_mnist[:100]\n",
    "t9_valid_mnist = t9_valid_mnist[:900]\n",
    "\n",
    "x_train_mnist = np.concatenate([x0_train_mnist[:100], x9_train_mnist[:900]])\n",
    "t_train_mnist = np.concatenate([t0_train_mnist[:100], t9_train_mnist[:900]])"
   ]
  },
  {
   "cell_type": "code",
   "execution_count": null,
   "metadata": {},
   "outputs": [],
   "source": [
    "def valid(valid_func, inputs, labels):\n",
    "    correct = 0\n",
    "    total_cost = 0\n",
    "    for (x, t) in zip(inputs, labels):\n",
    "        cost, y_pred = valid_func(x[None], t[None])\n",
    "        total_cost += cost\n",
    "        correct += y_pred.argmax() == t.argmax()\n",
    "    correct /= len(inputs)\n",
    "    total_cost /= len(inputs)\n",
    "    return total_cost, correct\n",
    "\n",
    "def report_accuracy(valid_func, epoch=None, cost=None):\n",
    "    global x0_valid_mnist, t0_valid_mnist, x9_valid_mnist, t9_valid_mnist\n",
    "    if epoch is not None:\n",
    "        print(\"Epoch:\", epoch, end=\", \")\n",
    "    if cost is not None:\n",
    "        print(\"Cost: {:.3f}\".format(cost), end=\", \")\n",
    "    _, accuracy0 = valid(valid_func, x0_valid_mnist, t0_valid_mnist)\n",
    "    _, accuracy9 = valid(valid_func, x9_valid_mnist, t9_valid_mnist)\n",
    "    accuracy = (accuracy0 * len(x0_valid_mnist) + accuracy9 * len(x9_valid_mnist)) / (len(x0_valid_mnist) + len(x9_valid_mnist))\n",
    "    print(\"Accuracy0: {:.3f}, Accuracy9: {:.3f}, Accuracy: {:.3f}\".format(accuracy0, accuracy9, accuracy))\n",
    "\n",
    "lr = 0.01"
   ]
  },
  {
   "cell_type": "code",
   "execution_count": null,
   "metadata": {},
   "outputs": [],
   "source": [
    "def int_float():\n",
    "    global x_train_mnist, t_train_mnist\n",
    "    start_time = time()\n",
    "    for epoch in range(5):\n",
    "        x_train_mnist, t_train_mnist = shuffle(x_train_mnist, t_train_mnist)\n",
    "        train_cost = 0\n",
    "        for i, (x, t) in enumerate(zip(x_train_mnist, t_train_mnist)):\n",
    "            cost = trainer.train_ng(x[None, :], t[None, :])\n",
    "            train_cost += cost\n",
    "            trainer.update_params(lr)\n",
    "            trainer.sync_qunatize()\n",
    "        train_cost /= len(x_train_mnist)\n",
    "        report_accuracy(trainer.valid_ng, epoch + 1, train_cost)\n",
    "        \n",
    "    end_time = time()\n",
    "    print(\"Elapsed Time: {:.3f} s\".format(end_time - start_time))\n",
    "\n",
    "def float_float():\n",
    "    global x_train_mnist, t_train_mnist\n",
    "    start_time = time()\n",
    "    for epoch in range(5):\n",
    "        x_train_mnist, t_train_mnist = shuffle(x_train_mnist, t_train_mnist)\n",
    "        train_cost = 0\n",
    "        for i, (x, t) in enumerate(zip(x_train_mnist, t_train_mnist)):\n",
    "            cost = trainer.train_np(x[None, :], t[None, :])\n",
    "            train_cost += cost\n",
    "            trainer.update_params(lr)\n",
    "        train_cost /= len(x_train_mnist)\n",
    "        report_accuracy(trainer.valid_np, epoch + 1, train_cost)\n",
    "        \n",
    "    end_time = time()\n",
    "    print(\"Elapsed Time: {:.3f} s\".format(end_time - start_time))"
   ]
  },
  {
   "cell_type": "code",
   "execution_count": null,
   "metadata": {},
   "outputs": [],
   "source": [
    "int_float()"
   ]
  },
  {
   "cell_type": "code",
   "execution_count": null,
   "metadata": {},
   "outputs": [],
   "source": [
    "float_float()"
   ]
  }
 ],
 "metadata": {
  "language_info": {
   "name": "python"
  },
  "orig_nbformat": 4
 },
 "nbformat": 4,
 "nbformat_minor": 2
}
