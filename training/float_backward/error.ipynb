{
 "cells": [
  {
   "cell_type": "code",
   "execution_count": 1,
   "metadata": {},
   "outputs": [],
   "source": [
    "from npng import PlaceHolder, Matmul, input_scale_factors, input_means, input_stds\n",
    "from util import softmax, cross_entropy\n",
    "from common import *\n",
    "\n",
    "import numpy as np\n",
    "import nngen as ng\n",
    "\n",
    "# Global buffer上のアドレスを直接埋め込み\n",
    "l0 = PlaceHolder(784, input_layer_name, 64)\n",
    "l1 = Matmul(l0, 784, 100, \"l1\", 91840)\n",
    "l2 = Matmul(l1, 100, 100, \"l2\", 91968)\n",
    "l3 = Matmul(l2, 100, 10, output_layer_name, 0, False)\n",
    "layers = [l1, l2, l3]\n",
    "\n",
    "ng.to_veriloggen([l3.out_ng], \"mlp\", config={\"maxi_datawidth\": 32}, silent=True)\n",
    "\n",
    "def load_params_np(path):\n",
    "    for layer in layers:\n",
    "        layer.load_params_np(path)\n",
    "def save_params_np(path):\n",
    "    for layer in layers:\n",
    "        layer.save_params_np(path)\n",
    "\n",
    "def preprocess_ng(x):\n",
    "    vact = x * act_scale_factor\n",
    "    vact = np.clip(vact,\n",
    "                    -1.0 * (2 ** (act_dtype.width - 1) - 1),\n",
    "                    1.0 * (2 ** (act_dtype.width - 1) - 1))\n",
    "    vact = np.round(vact).astype(np.int64)\n",
    "    return vact\n",
    "\n",
    "def update_params(alpha):\n",
    "    for layer in layers:\n",
    "        layer.update_params(alpha)\n",
    "\n",
    "def valid_np(x, t):\n",
    "    y = l3.forward_np({input_layer_name: x})\n",
    "    cost = cross_entropy(y, t)\n",
    "    y = softmax(y)\n",
    "    return cost, y\n",
    "def train_np(x, t):\n",
    "    cost, y = valid_np(x, t)\n",
    "    delta = y - t\n",
    "    l3.backward_np(delta)\n",
    "    return cost\n",
    "\n",
    "def valid_ng_eval(x, t):\n",
    "    x = preprocess_ng(x)\n",
    "    y = l3.forward_ng_eval({input_layer_name: x})\n",
    "    cost = cross_entropy(y, t)\n",
    "    y = softmax(y)\n",
    "    return cost, y\n",
    "def train_ng_eval(x, t):\n",
    "    cost, y = valid_ng_eval(x, t)\n",
    "    delta = y - t\n",
    "    l3.backward_np(delta)\n",
    "    return cost\n",
    "\n",
    "def sync_qunatize():\n",
    "    for layer in layers:\n",
    "        layer.reset_ng()\n",
    "        layer.sync_params()\n",
    "    ng.quantize([l3.out_ng], input_scale_factors, input_means, input_stds)"
   ]
  },
  {
   "cell_type": "code",
   "execution_count": 2,
   "metadata": {},
   "outputs": [],
   "source": [
    "load_params_np(\"./mnist1-9_weights\")\n",
    "sync_qunatize()"
   ]
  },
  {
   "cell_type": "code",
   "execution_count": 3,
   "metadata": {},
   "outputs": [],
   "source": [
    "# Training Data\n",
    "mnist = np.load(\"mnist.npz\")\n",
    "\n",
    "# Use 1000 data for train and validation\n",
    "x0_valid_mnist = mnist[\"x0_valid\"]\n",
    "x9_valid_mnist = mnist[\"x9_valid\"]\n",
    "t0_valid_mnist = mnist[\"t0_valid\"]\n",
    "t9_valid_mnist = mnist[\"t9_valid\"]\n",
    "\n",
    "x_train_mnist = mnist[\"x_train\"]\n",
    "t_train_mnist = mnist[\"t_train\"]"
   ]
  },
  {
   "cell_type": "code",
   "execution_count": 4,
   "metadata": {},
   "outputs": [
    {
     "name": "stdout",
     "output_type": "stream",
     "text": [
      "(1, 784) float64 (1, 10) float64 (1, 784) int64\n"
     ]
    }
   ],
   "source": [
    "x = x0_valid_mnist[:1]\n",
    "y = t0_valid_mnist[:1]\n",
    "px = preprocess_ng(x)\n",
    "\n",
    "print(x.shape, x.dtype, y.shape, y.dtype, px.shape, px.dtype)"
   ]
  },
  {
   "cell_type": "code",
   "execution_count": 5,
   "metadata": {},
   "outputs": [],
   "source": [
    "target = ng.placeholder(dtype=np.float64, shape=(1, 10), name=\"target\")\n",
    "out_ng = ng.cross_entropy_loss(l3.out_ng, target)"
   ]
  },
  {
   "cell_type": "code",
   "execution_count": 6,
   "metadata": {},
   "outputs": [
    {
     "data": {
      "text/plain": [
       "(12.515873465644784,\n",
       " array([[3.66796529e-06, 5.57853489e-05, 9.53071460e-01, 2.26763261e-05,\n",
       "         4.63948930e-02, 3.12027896e-06, 4.65996236e-05, 1.17974651e-04,\n",
       "         2.69713449e-04, 1.41089513e-05]]))"
      ]
     },
     "execution_count": 6,
     "metadata": {},
     "output_type": "execute_result"
    }
   ],
   "source": [
    "valid_np(x, y)"
   ]
  },
  {
   "cell_type": "code",
   "execution_count": 7,
   "metadata": {},
   "outputs": [
    {
     "data": {
      "text/plain": [
       "(10.006464958190918,\n",
       " array([[4.5107354e-05, 5.0604850e-04, 6.4867681e-01, 2.6990232e-04,\n",
       "         3.4597346e-01, 3.7175061e-05, 5.3111801e-04, 1.0451424e-03,\n",
       "         2.7488649e-03, 1.6642461e-04]], dtype=float32))"
      ]
     },
     "execution_count": 7,
     "metadata": {},
     "output_type": "execute_result"
    }
   ],
   "source": [
    "valid_ng_eval(x, y)"
   ]
  },
  {
   "cell_type": "code",
   "execution_count": 8,
   "metadata": {},
   "outputs": [
    {
     "data": {
      "text/plain": [
       "10.006464958190918"
      ]
     },
     "execution_count": 8,
     "metadata": {},
     "output_type": "execute_result"
    }
   ],
   "source": [
    "ng.eval([out_ng], **{input_layer_name: px, \"target\": y})[0]"
   ]
  },
  {
   "cell_type": "code",
   "execution_count": 23,
   "metadata": {},
   "outputs": [
    {
     "name": "stdout",
     "output_type": "stream",
     "text": [
      "l1\n",
      "162.29802162998126\n",
      "116.17504970631575\n",
      "1.0487734156510444\n",
      "l2\n",
      "239.99313272039927\n",
      "212.6601047552999\n",
      "179.55497819099443\n",
      "l3\n",
      "-4.746203430272544e-15\n",
      "2.021132912106288e-06\n",
      "3.362386601036768\n"
     ]
    }
   ],
   "source": [
    "for l in [l1, l2, l3]:\n",
    "    print(l.name)\n",
    "    train_np(x, y)\n",
    "    print(l.dw.sum())\n",
    "    update_params(0)\n",
    "    train_ng_eval(x, y)\n",
    "    print(l.dw.sum())\n",
    "    update_params(0)\n",
    "    ng.backward([out_ng])\n",
    "    print(l.w_ng.grad.sum() / l.w_ng.grad_scale_factor)"
   ]
  },
  {
   "cell_type": "code",
   "execution_count": 44,
   "metadata": {},
   "outputs": [
    {
     "data": {
      "image/png": "[encoded data removed]",
      "text/plain": [
       "<Figure size 1200x1200 with 9 Axes>"
      ]
     },
     "metadata": {},
     "output_type": "display_data"
    }
   ],
   "source": [
    "import matplotlib.pyplot as plt\n",
    "\n",
    "def plot(ax, array, name):\n",
    "    ax.set_title(name)\n",
    "    array = array[array != 0]\n",
    "    ax.hist(array.flatten(), bins=100, density=True)\n",
    "\n",
    "\n",
    "fig, axes = plt.subplots(3, 3, figsize=(12, 12))\n",
    "\n",
    "train_np(x, y)\n",
    "for ax, layer in zip(axes[0], layers):\n",
    "    plot(ax, layer.dw, \"float-float/\" + layer.name)\n",
    "update_params(0)\n",
    "\n",
    "train_ng_eval(x, y)\n",
    "for ax, layer in zip(axes[1], layers):\n",
    "    plot(ax, layer.dw, \"int-float/\" + layer.name)\n",
    "update_params(0)\n",
    "\n",
    "ng.backward([out_ng])\n",
    "for ax, layer in zip(axes[2], layers):\n",
    "    plot(ax, (layer.w_ng.grad / l.w_ng.grad_scale_factor), \"int-int/\" + layer.name)\n"
   ]
  },
  {
   "cell_type": "code",
   "execution_count": 46,
   "metadata": {},
   "outputs": [
    {
     "name": "stdout",
     "output_type": "stream",
     "text": [
      "[[ 0.00000000e+00  0.00000000e+00  0.00000000e+00  0.00000000e+00\n",
      "   0.00000000e+00  0.00000000e+00  0.00000000e+00  0.00000000e+00\n",
      "   0.00000000e+00  0.00000000e+00]\n",
      " [ 0.00000000e+00  0.00000000e+00  0.00000000e+00  0.00000000e+00\n",
      "   0.00000000e+00  0.00000000e+00  0.00000000e+00  0.00000000e+00\n",
      "   0.00000000e+00  0.00000000e+00]\n",
      " [ 0.00000000e+00  0.00000000e+00  0.00000000e+00  0.00000000e+00\n",
      "   0.00000000e+00  0.00000000e+00  0.00000000e+00  0.00000000e+00\n",
      "   0.00000000e+00  0.00000000e+00]\n",
      " [ 0.00000000e+00  0.00000000e+00  0.00000000e+00  0.00000000e+00\n",
      "   0.00000000e+00  0.00000000e+00  0.00000000e+00  0.00000000e+00\n",
      "   0.00000000e+00  0.00000000e+00]\n",
      " [-6.26937953e-01  3.49740808e-05  5.97518862e-01  1.42167016e-05\n",
      "   2.90868260e-02  1.95622848e-06  2.92151798e-05  7.39630576e-05\n",
      "   1.69094218e-04  8.84546950e-06]\n",
      " [ 0.00000000e+00  0.00000000e+00  0.00000000e+00  0.00000000e+00\n",
      "   0.00000000e+00  0.00000000e+00  0.00000000e+00  0.00000000e+00\n",
      "   0.00000000e+00  0.00000000e+00]\n",
      " [-4.16194004e-01  2.32176129e-05  3.96664082e-01  9.43778554e-06\n",
      "   1.93093471e-02  1.29864616e-06  1.93945551e-05  4.91005225e-05\n",
      "   1.12253532e-04  5.87208247e-06]\n",
      " [ 0.00000000e+00  0.00000000e+00  0.00000000e+00  0.00000000e+00\n",
      "   0.00000000e+00  0.00000000e+00  0.00000000e+00  0.00000000e+00\n",
      "   0.00000000e+00  0.00000000e+00]\n",
      " [-9.74893379e-01  5.43849668e-05  9.29146465e-01  2.21070812e-05\n",
      "   4.52302399e-02  3.04195046e-06  4.54298312e-05  1.15013128e-04\n",
      "   2.62942820e-04  1.37547737e-05]\n",
      " [-6.54942582e-02  3.65363344e-06  6.24209372e-02  1.48517460e-06\n",
      "   3.03861025e-03  2.04361106e-07  3.05201897e-06  7.72669060e-06\n",
      "   1.76647471e-05  9.24058688e-07]\n",
      " [ 0.00000000e+00  0.00000000e+00  0.00000000e+00  0.00000000e+00\n",
      "   0.00000000e+00  0.00000000e+00  0.00000000e+00  0.00000000e+00\n",
      "   0.00000000e+00  0.00000000e+00]\n",
      " [ 0.00000000e+00  0.00000000e+00  0.00000000e+00  0.00000000e+00\n",
      "   0.00000000e+00  0.00000000e+00  0.00000000e+00  0.00000000e+00\n",
      "   0.00000000e+00  0.00000000e+00]\n",
      " [ 0.00000000e+00  0.00000000e+00  0.00000000e+00  0.00000000e+00\n",
      "   0.00000000e+00  0.00000000e+00  0.00000000e+00  0.00000000e+00\n",
      "   0.00000000e+00  0.00000000e+00]\n",
      " [ 0.00000000e+00  0.00000000e+00  0.00000000e+00  0.00000000e+00\n",
      "   0.00000000e+00  0.00000000e+00  0.00000000e+00  0.00000000e+00\n",
      "   0.00000000e+00  0.00000000e+00]\n",
      " [ 0.00000000e+00  0.00000000e+00  0.00000000e+00  0.00000000e+00\n",
      "   0.00000000e+00  0.00000000e+00  0.00000000e+00  0.00000000e+00\n",
      "   0.00000000e+00  0.00000000e+00]\n",
      " [ 0.00000000e+00  0.00000000e+00  0.00000000e+00  0.00000000e+00\n",
      "   0.00000000e+00  0.00000000e+00  0.00000000e+00  0.00000000e+00\n",
      "   0.00000000e+00  0.00000000e+00]\n",
      " [-8.46830946e-02  4.72409331e-06  8.07093367e-02  1.92030851e-06\n",
      "   3.92887752e-03  2.64235848e-07  3.94621481e-06  9.99049518e-06\n",
      "   2.28402533e-05  1.19479404e-06]\n",
      " [ 0.00000000e+00  0.00000000e+00  0.00000000e+00  0.00000000e+00\n",
      "   0.00000000e+00  0.00000000e+00  0.00000000e+00  0.00000000e+00\n",
      "   0.00000000e+00  0.00000000e+00]\n",
      " [ 0.00000000e+00  0.00000000e+00  0.00000000e+00  0.00000000e+00\n",
      "   0.00000000e+00  0.00000000e+00  0.00000000e+00  0.00000000e+00\n",
      "   0.00000000e+00  0.00000000e+00]\n",
      " [ 0.00000000e+00  0.00000000e+00  0.00000000e+00  0.00000000e+00\n",
      "   0.00000000e+00  0.00000000e+00  0.00000000e+00  0.00000000e+00\n",
      "   0.00000000e+00  0.00000000e+00]\n",
      " [ 0.00000000e+00  0.00000000e+00  0.00000000e+00  0.00000000e+00\n",
      "   0.00000000e+00  0.00000000e+00  0.00000000e+00  0.00000000e+00\n",
      "   0.00000000e+00  0.00000000e+00]\n",
      " [ 0.00000000e+00  0.00000000e+00  0.00000000e+00  0.00000000e+00\n",
      "   0.00000000e+00  0.00000000e+00  0.00000000e+00  0.00000000e+00\n",
      "   0.00000000e+00  0.00000000e+00]\n",
      " [-1.71189841e-01  9.54992005e-06  1.63156750e-01  3.88197090e-06\n",
      "   7.94236350e-03  5.34162020e-07  7.97741143e-06  2.01961359e-05\n",
      "   4.61723719e-05  2.41531799e-06]\n",
      " [ 0.00000000e+00  0.00000000e+00  0.00000000e+00  0.00000000e+00\n",
      "   0.00000000e+00  0.00000000e+00  0.00000000e+00  0.00000000e+00\n",
      "   0.00000000e+00  0.00000000e+00]\n",
      " [ 0.00000000e+00  0.00000000e+00  0.00000000e+00  0.00000000e+00\n",
      "   0.00000000e+00  0.00000000e+00  0.00000000e+00  0.00000000e+00\n",
      "   0.00000000e+00  0.00000000e+00]\n",
      " [-3.06858445e+00  1.71182682e-04  2.92459099e+00  6.95844766e-05\n",
      "   1.42367169e-01  9.57487461e-06  1.42995405e-04  3.62016507e-04\n",
      "   8.27641531e-04  4.32946673e-05]\n",
      " [-1.46526362e+00  8.17405422e-05  1.39650606e+00  3.32269175e-05\n",
      "   6.79809983e-02  4.57204803e-06  6.82809837e-05  1.72864599e-04\n",
      "   3.95202755e-04  2.06734089e-05]\n",
      " [-4.17856452e-01  2.33103535e-05  3.98248520e-01  9.47548390e-06\n",
      "   1.93864765e-02  1.30383348e-06  1.94720248e-05  4.92966499e-05\n",
      "   1.12701918e-04  5.89553796e-06]\n",
      " [-1.57827628e-01  8.80450159e-06  1.50421560e-01  3.57896388e-06\n",
      "   7.32242278e-03  4.92468034e-07  7.35473504e-06  1.86197276e-05\n",
      "   4.25683901e-05  2.22679049e-06]\n",
      " [ 0.00000000e+00  0.00000000e+00  0.00000000e+00  0.00000000e+00\n",
      "   0.00000000e+00  0.00000000e+00  0.00000000e+00  0.00000000e+00\n",
      "   0.00000000e+00  0.00000000e+00]\n",
      " [-6.39354073e-01  3.56667209e-05  6.09352355e-01  1.44982546e-05\n",
      "   2.96628726e-02  1.99497038e-06  2.97937685e-05  7.54278504e-05\n",
      "   1.72443025e-04  9.02064857e-06]\n",
      " [-7.47119155e-01  4.16784556e-05  7.12060556e-01  1.69419797e-05\n",
      "   3.46626404e-02  2.33122873e-06  3.48155991e-05  8.81414449e-05\n",
      "   2.01508823e-04  1.05411064e-05]\n",
      " [-5.47402264e-01  3.05371383e-05  5.21715389e-01  1.24131178e-05\n",
      "   2.53967626e-02  1.70805404e-06  2.55088330e-05  6.45798280e-05\n",
      "   1.47642294e-04  7.72330022e-06]\n",
      " [ 0.00000000e+00  0.00000000e+00  0.00000000e+00  0.00000000e+00\n",
      "   0.00000000e+00  0.00000000e+00  0.00000000e+00  0.00000000e+00\n",
      "   0.00000000e+00  0.00000000e+00]\n",
      " [ 0.00000000e+00  0.00000000e+00  0.00000000e+00  0.00000000e+00\n",
      "   0.00000000e+00  0.00000000e+00  0.00000000e+00  0.00000000e+00\n",
      "   0.00000000e+00  0.00000000e+00]\n",
      " [-1.83712926e-01  1.02485273e-05  1.75092189e-01  4.16594948e-06\n",
      "   8.52337280e-03  5.73237680e-07  8.56098459e-06  2.16735478e-05\n",
      "   4.95500286e-05  2.59200623e-06]\n",
      " [ 0.00000000e+00  0.00000000e+00  0.00000000e+00  0.00000000e+00\n",
      "   0.00000000e+00  0.00000000e+00  0.00000000e+00  0.00000000e+00\n",
      "   0.00000000e+00  0.00000000e+00]\n",
      " [ 0.00000000e+00  0.00000000e+00  0.00000000e+00  0.00000000e+00\n",
      "   0.00000000e+00  0.00000000e+00  0.00000000e+00  0.00000000e+00\n",
      "   0.00000000e+00  0.00000000e+00]\n",
      " [ 0.00000000e+00  0.00000000e+00  0.00000000e+00  0.00000000e+00\n",
      "   0.00000000e+00  0.00000000e+00  0.00000000e+00  0.00000000e+00\n",
      "   0.00000000e+00  0.00000000e+00]\n",
      " [ 0.00000000e+00  0.00000000e+00  0.00000000e+00  0.00000000e+00\n",
      "   0.00000000e+00  0.00000000e+00  0.00000000e+00  0.00000000e+00\n",
      "   0.00000000e+00  0.00000000e+00]\n",
      " [ 0.00000000e+00  0.00000000e+00  0.00000000e+00  0.00000000e+00\n",
      "   0.00000000e+00  0.00000000e+00  0.00000000e+00  0.00000000e+00\n",
      "   0.00000000e+00  0.00000000e+00]\n",
      " [-7.44649829e-01  4.15407029e-05  7.09707103e-01  1.68859843e-05\n",
      "   3.45480759e-02  2.32352372e-06  3.47005290e-05  8.78501260e-05\n",
      "   2.00842811e-04  1.05062667e-05]\n",
      " [ 0.00000000e+00  0.00000000e+00  0.00000000e+00  0.00000000e+00\n",
      "   0.00000000e+00  0.00000000e+00  0.00000000e+00  0.00000000e+00\n",
      "   0.00000000e+00  0.00000000e+00]\n",
      " [ 0.00000000e+00  0.00000000e+00  0.00000000e+00  0.00000000e+00\n",
      "   0.00000000e+00  0.00000000e+00  0.00000000e+00  0.00000000e+00\n",
      "   0.00000000e+00  0.00000000e+00]\n",
      " [ 0.00000000e+00  0.00000000e+00  0.00000000e+00  0.00000000e+00\n",
      "   0.00000000e+00  0.00000000e+00  0.00000000e+00  0.00000000e+00\n",
      "   0.00000000e+00  0.00000000e+00]\n",
      " [ 0.00000000e+00  0.00000000e+00  0.00000000e+00  0.00000000e+00\n",
      "   0.00000000e+00  0.00000000e+00  0.00000000e+00  0.00000000e+00\n",
      "   0.00000000e+00  0.00000000e+00]\n",
      " [-9.27174884e-01  5.17229641e-05  8.83667162e-01  2.10249971e-05\n",
      "   4.30163373e-02  2.89305490e-06  4.32061591e-05  1.09383535e-04\n",
      "   2.50072453e-04  1.30815133e-05]\n",
      " [-2.21462363e+00  1.23544005e-04  2.11070232e+00  5.02197117e-05\n",
      "   1.02747603e-01  6.91026887e-06  1.03201006e-04  2.61270408e-04\n",
      "   5.97315969e-04  3.12461316e-05]\n",
      " [ 0.00000000e+00  0.00000000e+00  0.00000000e+00  0.00000000e+00\n",
      "   0.00000000e+00  0.00000000e+00  0.00000000e+00  0.00000000e+00\n",
      "   0.00000000e+00  0.00000000e+00]\n",
      " [ 0.00000000e+00  0.00000000e+00  0.00000000e+00  0.00000000e+00\n",
      "   0.00000000e+00  0.00000000e+00  0.00000000e+00  0.00000000e+00\n",
      "   0.00000000e+00  0.00000000e+00]\n",
      " [-1.48699921e+00  8.29530738e-05  1.41722170e+00  3.37198025e-05\n",
      "   6.89894221e-02  4.63986936e-06  6.92938574e-05  1.75428856e-04\n",
      "   4.01065156e-04  2.09800763e-05]\n",
      " [ 0.00000000e+00  0.00000000e+00  0.00000000e+00  0.00000000e+00\n",
      "   0.00000000e+00  0.00000000e+00  0.00000000e+00  0.00000000e+00\n",
      "   0.00000000e+00  0.00000000e+00]\n",
      " [ 0.00000000e+00  0.00000000e+00  0.00000000e+00  0.00000000e+00\n",
      "   0.00000000e+00  0.00000000e+00  0.00000000e+00  0.00000000e+00\n",
      "   0.00000000e+00  0.00000000e+00]\n",
      " [-6.62836426e-01  3.69766969e-05  6.31732798e-01  1.50307501e-05\n",
      "   3.07523379e-02  2.06824214e-06  3.08880413e-05  7.81981829e-05\n",
      "   1.78776555e-04  9.35196116e-06]\n",
      " [ 0.00000000e+00  0.00000000e+00  0.00000000e+00  0.00000000e+00\n",
      "   0.00000000e+00  0.00000000e+00  0.00000000e+00  0.00000000e+00\n",
      "   0.00000000e+00  0.00000000e+00]\n",
      " [ 0.00000000e+00  0.00000000e+00  0.00000000e+00  0.00000000e+00\n",
      "   0.00000000e+00  0.00000000e+00  0.00000000e+00  0.00000000e+00\n",
      "   0.00000000e+00  0.00000000e+00]\n",
      " [ 0.00000000e+00  0.00000000e+00  0.00000000e+00  0.00000000e+00\n",
      "   0.00000000e+00  0.00000000e+00  0.00000000e+00  0.00000000e+00\n",
      "   0.00000000e+00  0.00000000e+00]\n",
      " [ 0.00000000e+00  0.00000000e+00  0.00000000e+00  0.00000000e+00\n",
      "   0.00000000e+00  0.00000000e+00  0.00000000e+00  0.00000000e+00\n",
      "   0.00000000e+00  0.00000000e+00]\n",
      " [-1.62416583e+00  9.06049901e-05  1.54795178e+00  3.68302491e-05\n",
      "   7.53532765e-02  5.06786908e-06  7.56857942e-05  1.91611100e-04\n",
      "   4.38060976e-04  2.29153607e-05]\n",
      " [ 0.00000000e+00  0.00000000e+00  0.00000000e+00  0.00000000e+00\n",
      "   0.00000000e+00  0.00000000e+00  0.00000000e+00  0.00000000e+00\n",
      "   0.00000000e+00  0.00000000e+00]\n",
      " [ 0.00000000e+00  0.00000000e+00  0.00000000e+00  0.00000000e+00\n",
      "   0.00000000e+00  0.00000000e+00  0.00000000e+00  0.00000000e+00\n",
      "   0.00000000e+00  0.00000000e+00]\n",
      " [-4.99207089e-01  2.78485438e-05  4.75781774e-01  1.13202242e-05\n",
      "   2.31607444e-02  1.55767109e-06  2.32629478e-05  5.88939982e-05\n",
      "   1.34643360e-04  7.04331434e-06]\n",
      " [ 0.00000000e+00  0.00000000e+00  0.00000000e+00  0.00000000e+00\n",
      "   0.00000000e+00  0.00000000e+00  0.00000000e+00  0.00000000e+00\n",
      "   0.00000000e+00  0.00000000e+00]\n",
      " [ 0.00000000e+00  0.00000000e+00  0.00000000e+00  0.00000000e+00\n",
      "   0.00000000e+00  0.00000000e+00  0.00000000e+00  0.00000000e+00\n",
      "   0.00000000e+00  0.00000000e+00]\n",
      " [ 0.00000000e+00  0.00000000e+00  0.00000000e+00  0.00000000e+00\n",
      "   0.00000000e+00  0.00000000e+00  0.00000000e+00  0.00000000e+00\n",
      "   0.00000000e+00  0.00000000e+00]\n",
      " [-3.94410283e-01  2.20023959e-05  3.75902563e-01  8.94380898e-06\n",
      "   1.82986900e-02  1.23067462e-06  1.83794381e-05  4.65305862e-05\n",
      "   1.06378148e-04  5.56473589e-06]\n",
      " [ 0.00000000e+00  0.00000000e+00  0.00000000e+00  0.00000000e+00\n",
      "   0.00000000e+00  0.00000000e+00  0.00000000e+00  0.00000000e+00\n",
      "   0.00000000e+00  0.00000000e+00]\n",
      " [-2.54404874e+00  1.41921167e-04  2.42466915e+00  5.76898904e-05\n",
      "   1.18031302e-01  7.93817090e-06  1.18552149e-04  3.00134364e-04\n",
      "   6.86166679e-04  3.58939915e-05]\n",
      " [ 0.00000000e+00  0.00000000e+00  0.00000000e+00  0.00000000e+00\n",
      "   0.00000000e+00  0.00000000e+00  0.00000000e+00  0.00000000e+00\n",
      "   0.00000000e+00  0.00000000e+00]\n",
      " [-9.65000862e-01  5.38331073e-05  9.19718155e-01  2.18827545e-05\n",
      "   4.47712760e-02  3.01108294e-06  4.49688419e-05  1.13846058e-04\n",
      "   2.60274666e-04  1.36152001e-05]\n",
      " [-2.09913505e+00  1.17101411e-04  2.00063305e+00  4.76008454e-05\n",
      "   9.73895033e-02  6.54991096e-06  9.78192620e-05  2.47645633e-04\n",
      "   5.66167031e-04  2.96167028e-05]\n",
      " [ 0.00000000e+00  0.00000000e+00  0.00000000e+00  0.00000000e+00\n",
      "   0.00000000e+00  0.00000000e+00  0.00000000e+00  0.00000000e+00\n",
      "   0.00000000e+00  0.00000000e+00]\n",
      " [ 0.00000000e+00  0.00000000e+00  0.00000000e+00  0.00000000e+00\n",
      "   0.00000000e+00  0.00000000e+00  0.00000000e+00  0.00000000e+00\n",
      "   0.00000000e+00  0.00000000e+00]\n",
      " [ 0.00000000e+00  0.00000000e+00  0.00000000e+00  0.00000000e+00\n",
      "   0.00000000e+00  0.00000000e+00  0.00000000e+00  0.00000000e+00\n",
      "   0.00000000e+00  0.00000000e+00]\n",
      " [ 0.00000000e+00  0.00000000e+00  0.00000000e+00  0.00000000e+00\n",
      "   0.00000000e+00  0.00000000e+00  0.00000000e+00  0.00000000e+00\n",
      "   0.00000000e+00  0.00000000e+00]\n",
      " [ 0.00000000e+00  0.00000000e+00  0.00000000e+00  0.00000000e+00\n",
      "   0.00000000e+00  0.00000000e+00  0.00000000e+00  0.00000000e+00\n",
      "   0.00000000e+00  0.00000000e+00]\n",
      " [-5.92185267e-01  3.30353829e-05  5.64396947e-01  1.34286354e-05\n",
      "   2.74744729e-02  1.84779001e-06  2.75957117e-05  6.98631064e-05\n",
      "   1.59720917e-04  8.35514373e-06]\n",
      " [ 0.00000000e+00  0.00000000e+00  0.00000000e+00  0.00000000e+00\n",
      "   0.00000000e+00  0.00000000e+00  0.00000000e+00  0.00000000e+00\n",
      "   0.00000000e+00  0.00000000e+00]\n",
      " [ 0.00000000e+00  0.00000000e+00  0.00000000e+00  0.00000000e+00\n",
      "   0.00000000e+00  0.00000000e+00  0.00000000e+00  0.00000000e+00\n",
      "   0.00000000e+00  0.00000000e+00]\n",
      " [ 0.00000000e+00  0.00000000e+00  0.00000000e+00  0.00000000e+00\n",
      "   0.00000000e+00  0.00000000e+00  0.00000000e+00  0.00000000e+00\n",
      "   0.00000000e+00  0.00000000e+00]\n",
      " [-1.58577749e+00  8.84634753e-05  1.51136482e+00  3.59597394e-05\n",
      "   7.35722471e-02  4.94808631e-06  7.38969054e-05  1.87082233e-04\n",
      "   4.27707087e-04  2.23737395e-05]\n",
      " [-1.20397200e+00  6.71642444e-05  1.14747556e+00  2.73017617e-05\n",
      "   5.58583570e-02  3.75674228e-06  5.61048478e-05  1.42038697e-04\n",
      "   3.24728632e-04  1.69868446e-05]\n",
      " [-3.07103553e+00  1.71319417e-04  2.92692705e+00  6.96400584e-05\n",
      "   1.42480887e-01  9.58252270e-06  1.43109625e-04  3.62305674e-04\n",
      "   8.28302623e-04  4.33292496e-05]\n",
      " [ 0.00000000e+00  0.00000000e+00  0.00000000e+00  0.00000000e+00\n",
      "   0.00000000e+00  0.00000000e+00  0.00000000e+00  0.00000000e+00\n",
      "   0.00000000e+00  0.00000000e+00]\n",
      " [ 0.00000000e+00  0.00000000e+00  0.00000000e+00  0.00000000e+00\n",
      "   0.00000000e+00  0.00000000e+00  0.00000000e+00  0.00000000e+00\n",
      "   0.00000000e+00  0.00000000e+00]\n",
      " [-3.38970137e-01  1.89096367e-05  3.23063948e-01  7.68662553e-06\n",
      "   1.57265409e-02  1.05768527e-06  1.57959387e-05  3.99900303e-05\n",
      "   9.14251401e-05  4.78253069e-06]\n",
      " [ 0.00000000e+00  0.00000000e+00  0.00000000e+00  0.00000000e+00\n",
      "   0.00000000e+00  0.00000000e+00  0.00000000e+00  0.00000000e+00\n",
      "   0.00000000e+00  0.00000000e+00]\n",
      " [-1.24048832e+00  6.92013275e-05  1.18227835e+00  2.81298208e-05\n",
      "   5.75525339e-02  3.87068380e-06  5.78065008e-05  1.46346713e-04\n",
      "   3.34577610e-04  1.75020535e-05]\n",
      " [ 0.00000000e+00  0.00000000e+00  0.00000000e+00  0.00000000e+00\n",
      "   0.00000000e+00  0.00000000e+00  0.00000000e+00  0.00000000e+00\n",
      "   0.00000000e+00  0.00000000e+00]\n",
      " [-9.60788520e-01  5.35981194e-05  9.15703477e-01  2.17872337e-05\n",
      "   4.45758441e-02  2.99793920e-06  4.47725476e-05  1.13349106e-04\n",
      "   2.59138536e-04  1.35557682e-05]\n",
      " [-6.04244729e-01  3.37081266e-05  5.75890518e-01  1.37021007e-05\n",
      "   2.80339724e-02  1.88541903e-06  2.81576802e-05  7.12858225e-05\n",
      "   1.62973528e-04  8.52529072e-06]\n",
      " [ 0.00000000e+00  0.00000000e+00  0.00000000e+00  0.00000000e+00\n",
      "   0.00000000e+00  0.00000000e+00  0.00000000e+00  0.00000000e+00\n",
      "   0.00000000e+00  0.00000000e+00]\n",
      " [ 0.00000000e+00  0.00000000e+00  0.00000000e+00  0.00000000e+00\n",
      "   0.00000000e+00  0.00000000e+00  0.00000000e+00  0.00000000e+00\n",
      "   0.00000000e+00  0.00000000e+00]\n",
      " [ 0.00000000e+00  0.00000000e+00  0.00000000e+00  0.00000000e+00\n",
      "   0.00000000e+00  0.00000000e+00  0.00000000e+00  0.00000000e+00\n",
      "   0.00000000e+00  0.00000000e+00]\n",
      " [ 0.00000000e+00  0.00000000e+00  0.00000000e+00  0.00000000e+00\n",
      "   0.00000000e+00  0.00000000e+00  0.00000000e+00  0.00000000e+00\n",
      "   0.00000000e+00  0.00000000e+00]\n",
      " [-8.40597534e-01  4.68931987e-05  8.01152458e-01  1.90617337e-05\n",
      "   3.89995757e-02  2.62290842e-06  3.91716724e-05  9.91695645e-05\n",
      "   2.26721292e-04  1.18599932e-05]\n",
      " [ 0.00000000e+00  0.00000000e+00  0.00000000e+00  0.00000000e+00\n",
      "   0.00000000e+00  0.00000000e+00  0.00000000e+00  0.00000000e+00\n",
      "   0.00000000e+00  0.00000000e+00]\n",
      " [-1.94697191e+00  1.08612906e-04  1.85561017e+00  4.41503318e-05\n",
      "   9.03298848e-02  6.07511778e-06  9.07284910e-05  2.29694174e-04\n",
      "   5.25126436e-04  2.74698326e-05]\n",
      " [-8.65761467e-01  4.82969827e-05  8.25135572e-01  1.96323613e-05\n",
      "   4.01670580e-02  2.70142720e-06  4.03443065e-05  1.02138282e-04\n",
      "   2.33508368e-04  1.22150312e-05]\n",
      " [ 0.00000000e+00  0.00000000e+00  0.00000000e+00  0.00000000e+00\n",
      "   0.00000000e+00  0.00000000e+00  0.00000000e+00  0.00000000e+00\n",
      "   0.00000000e+00  0.00000000e+00]]\n"
     ]
    }
   ],
   "source": [
    "train_np(x, y)\n",
    "print(l3.dw)\n",
    "update_params(0)"
   ]
  },
  {
   "cell_type": "code",
   "execution_count": 32,
   "metadata": {},
   "outputs": [
    {
     "data": {
      "text/plain": [
       "(784, 100)"
      ]
     },
     "execution_count": 32,
     "metadata": {},
     "output_type": "execute_result"
    }
   ],
   "source": [
    "l1.dw.shape"
   ]
  },
  {
   "cell_type": "code",
   "execution_count": 33,
   "metadata": {},
   "outputs": [
    {
     "data": {
      "text/plain": [
       "122.99593933734664"
      ]
     },
     "execution_count": 33,
     "metadata": {},
     "output_type": "execute_result"
    }
   ],
   "source": [
    "l1.w_ng.grad_scale_factor"
   ]
  },
  {
   "cell_type": "code",
   "execution_count": null,
   "metadata": {},
   "outputs": [],
   "source": []
  }
 ],
 "metadata": {
  "kernelspec": {
   "display_name": "Python 3",
   "language": "python",
   "name": "python3"
  },
  "language_info": {
   "codemirror_mode": {
    "name": "ipython",
    "version": 3
   },
   "file_extension": ".py",
   "mimetype": "text/x-python",
   "name": "python",
   "nbconvert_exporter": "python",
   "pygments_lexer": "ipython3",
   "version": "3.10.6"
  },
  "orig_nbformat": 4
 },
 "nbformat": 4,
 "nbformat_minor": 2
}
