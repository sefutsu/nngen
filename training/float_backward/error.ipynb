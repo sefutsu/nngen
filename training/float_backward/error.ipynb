{
 "cells": [
  {
   "cell_type": "code",
   "execution_count": 1,
   "metadata": {},
   "outputs": [],
   "source": [
    "from npng import PlaceHolder, Matmul, input_scale_factors, input_means, input_stds\n",
    "from util import softmax, cross_entropy\n",
    "from common import *\n",
    "\n",
    "import numpy as np\n",
    "import nngen as ng\n",
    "\n",
    "\n",
    "# Global buffer上のアドレスを直接埋め込み\n",
    "l0 = PlaceHolder(784, input_layer_name, 64)\n",
    "l1 = Matmul(l0, 784, 100, \"l1\", 91840)\n",
    "l2 = Matmul(l1, 100, 100, \"l2\", 91968)\n",
    "l3 = Matmul(l2, 100, 10, output_layer_name, 0, False)\n",
    "layers = [l1, l2, l3]\n",
    "\n",
    "ng.to_veriloggen([l3.out_ng], \"mlp\", config={\"maxi_datawidth\": 32}, silent=True)\n",
    "\n",
    "\n",
    "def load_params_np(path):\n",
    "    for layer in layers:\n",
    "        layer.load_params_np(path)\n",
    "def save_params_np(path):\n",
    "    for layer in layers:\n",
    "        layer.save_params_np(path)\n",
    "\n",
    "def preprocess_ng(x):\n",
    "    vact = x * act_scale_factor\n",
    "    vact = np.clip(vact,\n",
    "                    -1.0 * (2 ** (act_dtype.width - 1) - 1),\n",
    "                    1.0 * (2 ** (act_dtype.width - 1) - 1))\n",
    "    vact = np.round(vact).astype(np.int64)\n",
    "    return vact\n",
    "\n",
    "def update_params(alpha):\n",
    "    for layer in layers:\n",
    "        layer.update_params(alpha)\n",
    "\n",
    "def valid_np(x, t):\n",
    "    y = l3.forward_np({input_layer_name: x})\n",
    "    cost = cross_entropy(y, t)\n",
    "    y = softmax(y)\n",
    "    return cost, y\n",
    "def train_np(x, t):\n",
    "    cost, y = valid_np(x, t)\n",
    "    delta = y - t\n",
    "    l3.backward_np(delta)\n",
    "    return cost\n",
    "\n",
    "def valid_ng_eval(x, t):\n",
    "    x = preprocess_ng(x)\n",
    "    y = l3.forward_ng_eval({input_layer_name: x})\n",
    "    cost = cross_entropy(y, t)\n",
    "    y = softmax(y)\n",
    "    return cost, y\n",
    "def train_ng_eval(x, t):\n",
    "    cost, y = valid_ng_eval(x, t)\n",
    "    delta = y - t\n",
    "    l3.backward_np(delta)\n",
    "    return cost\n",
    "\n",
    "def sync_qunatize():\n",
    "    for layer in layers:\n",
    "        layer.reset_ng()\n",
    "        layer.sync_params()\n",
    "    ng.quantize([l3.out_ng], input_scale_factors, input_means, input_stds)"
   ]
  },
  {
   "cell_type": "code",
   "execution_count": 2,
   "metadata": {},
   "outputs": [],
   "source": [
    "load_params_np(\"./mnist1-9_weights\")\n",
    "sync_qunatize()"
   ]
  },
  {
   "cell_type": "code",
   "execution_count": 3,
   "metadata": {},
   "outputs": [],
   "source": [
    "# Training Data\n",
    "mnist = np.load(\"mnist.npz\")\n",
    "\n",
    "# Use 1000 data for train and validation\n",
    "x0_valid_mnist = mnist[\"x0_valid\"]\n",
    "x9_valid_mnist = mnist[\"x9_valid\"]\n",
    "t0_valid_mnist = mnist[\"t0_valid\"]\n",
    "t9_valid_mnist = mnist[\"t9_valid\"]\n",
    "\n",
    "x_train_mnist = mnist[\"x_train\"]\n",
    "t_train_mnist = mnist[\"t_train\"]"
   ]
  },
  {
   "cell_type": "code",
   "execution_count": 4,
   "metadata": {},
   "outputs": [
    {
     "name": "stdout",
     "output_type": "stream",
     "text": [
      "(1, 784) float64 (1, 10) float64 (1, 784) int64\n"
     ]
    }
   ],
   "source": [
    "x = x0_valid_mnist[:1]\n",
    "y = t0_valid_mnist[:1]\n",
    "px = preprocess_ng(x)\n",
    "\n",
    "print(x.shape, x.dtype, y.shape, y.dtype, px.shape, px.dtype)"
   ]
  },
  {
   "cell_type": "code",
   "execution_count": 5,
   "metadata": {},
   "outputs": [],
   "source": [
    "target = ng.placeholder(dtype=np.float64, shape=(1, 10), name=\"target\")\n",
    "out_ng = ng.cross_entropy_loss(l3.out_ng, target)"
   ]
  },
  {
   "cell_type": "code",
   "execution_count": 6,
   "metadata": {},
   "outputs": [
    {
     "data": {
      "text/plain": [
       "(12.515873465644784,\n",
       " array([[3.66796529e-06, 5.57853489e-05, 9.53071460e-01, 2.26763261e-05,\n",
       "         4.63948930e-02, 3.12027896e-06, 4.65996236e-05, 1.17974651e-04,\n",
       "         2.69713449e-04, 1.41089513e-05]]))"
      ]
     },
     "execution_count": 6,
     "metadata": {},
     "output_type": "execute_result"
    }
   ],
   "source": [
    "valid_np(x, y)"
   ]
  },
  {
   "cell_type": "code",
   "execution_count": 7,
   "metadata": {},
   "outputs": [
    {
     "data": {
      "text/plain": [
       "(12.132902145385742,\n",
       " array([[5.3795675e-06, 6.0352075e-05, 9.5602804e-01, 3.3783559e-05,\n",
       "         4.3305349e-02, 4.8837064e-06, 6.6479843e-05, 1.3082004e-04,\n",
       "         3.4407419e-04, 2.0831296e-05]], dtype=float32))"
      ]
     },
     "execution_count": 7,
     "metadata": {},
     "output_type": "execute_result"
    }
   ],
   "source": [
    "valid_ng_eval(x, y)"
   ]
  },
  {
   "cell_type": "code",
   "execution_count": 8,
   "metadata": {},
   "outputs": [
    {
     "data": {
      "text/plain": [
       "12.132902145385742"
      ]
     },
     "execution_count": 8,
     "metadata": {},
     "output_type": "execute_result"
    }
   ],
   "source": [
    "ng.eval([out_ng], **{input_layer_name: px, \"target\": y})[0]"
   ]
  },
  {
   "cell_type": "code",
   "execution_count": 10,
   "metadata": {},
   "outputs": [
    {
     "name": "stdout",
     "output_type": "stream",
     "text": [
      "l1\n",
      "162.29802162998126\n",
      "156.63137994122488\n",
      "63.880157689192025\n",
      "l2\n",
      "239.99313272039927\n",
      "237.09736654039773\n",
      "178.16548077032792\n",
      "l3\n",
      "-4.746203430272544e-15\n",
      "-1.0136874559196762e-07\n",
      "1.1307590332590776\n"
     ]
    }
   ],
   "source": [
    "for l in [l1, l2, l3]:\n",
    "    print(l.name)\n",
    "    train_np(x, y)\n",
    "    print(l.dw.sum())\n",
    "    update_params(0)\n",
    "    train_ng_eval(x, y)\n",
    "    print(l.dw.sum())\n",
    "    update_params(0)\n",
    "    ng.backward([out_ng])\n",
    "    print(l.w_ng.grad.sum() / l.w_ng.grad_scale_factor)"
   ]
  },
  {
   "cell_type": "code",
   "execution_count": null,
   "metadata": {},
   "outputs": [],
   "source": []
  },
  {
   "cell_type": "code",
   "execution_count": 34,
   "metadata": {},
   "outputs": [
    {
     "name": "stdout",
     "output_type": "stream",
     "text": [
      "64.89645140322398\n"
     ]
    }
   ],
   "source": [
    "ng.backward([out_ng])\n",
    "print(l1.w_ng.grad.sum() / l1.w_ng.grad_scale_factor)"
   ]
  },
  {
   "cell_type": "code",
   "execution_count": 32,
   "metadata": {},
   "outputs": [
    {
     "data": {
      "text/plain": [
       "8424"
      ]
     },
     "execution_count": 32,
     "metadata": {},
     "output_type": "execute_result"
    }
   ],
   "source": [
    "l1.w_ng.grad.sum()"
   ]
  },
  {
   "cell_type": "code",
   "execution_count": 33,
   "metadata": {},
   "outputs": [
    {
     "data": {
      "text/plain": [
       "122.99593933734664"
      ]
     },
     "execution_count": 33,
     "metadata": {},
     "output_type": "execute_result"
    }
   ],
   "source": [
    "l1.w_ng.grad_scale_factor"
   ]
  },
  {
   "cell_type": "code",
   "execution_count": null,
   "metadata": {},
   "outputs": [],
   "source": []
  }
 ],
 "metadata": {
  "kernelspec": {
   "display_name": "Python 3",
   "language": "python",
   "name": "python3"
  },
  "language_info": {
   "codemirror_mode": {
    "name": "ipython",
    "version": 3
   },
   "file_extension": ".py",
   "mimetype": "text/x-python",
   "name": "python",
   "nbconvert_exporter": "python",
   "pygments_lexer": "ipython3",
   "version": "3.10.6"
  },
  "orig_nbformat": 4
 },
 "nbformat": 4,
 "nbformat_minor": 2
}
